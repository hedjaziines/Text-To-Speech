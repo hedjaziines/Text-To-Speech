{
 "cells": [
  {
   "cell_type": "code",
   "execution_count": 37,
   "id": "5aa89bc0-fd24-4826-9617-16ad17f3f7b1",
   "metadata": {},
   "outputs": [],
   "source": [
    "import pyttsx3"
   ]
  },
  {
   "cell_type": "code",
   "execution_count": 38,
   "id": "087c062b-be20-4955-8a57-0df06af7fdb7",
   "metadata": {},
   "outputs": [],
   "source": [
    "# text\n",
    "message = '💖🌟😊 Keep spreading that love and positivity! 🥰💕💫'\n"
   ]
  },
  {
   "cell_type": "code",
   "execution_count": 39,
   "id": "c03cefe0-af47-40e9-a01c-0605c14b7a72",
   "metadata": {},
   "outputs": [],
   "source": [
    "# initialize the module\n",
    "tts = pyttsx3.init()"
   ]
  },
  {
   "cell_type": "code",
   "execution_count": 40,
   "id": "81ae5edb-5dc7-4d55-8721-192e23eca1b9",
   "metadata": {},
   "outputs": [],
   "source": [
    "#speed of the voice\n",
    "tts.setProperty('rate', 110)\n",
    "# choose the voice\n",
    "voices = tts.getProperty('voices')\n",
    "tts.setProperty('voice', voices[1].id)\n",
    "# text to speech\n",
    "tts.say(message)\n",
    "# save the audio file\n",
    "tts.save_to_file(message, 'message.mp3')"
   ]
  },
  {
   "cell_type": "code",
   "execution_count": 41,
   "id": "720b6396-8028-4581-977c-542eb10dd33b",
   "metadata": {},
   "outputs": [],
   "source": [
    "# speech\n",
    "tts.runAndWait()"
   ]
  },
  {
   "cell_type": "code",
   "execution_count": null,
   "id": "c101499c-f24a-4e9e-9354-f05c7956eb48",
   "metadata": {},
   "outputs": [],
   "source": []
  }
 ],
 "metadata": {
  "kernelspec": {
   "display_name": "Python 3 (ipykernel)",
   "language": "python",
   "name": "python3"
  },
  "language_info": {
   "codemirror_mode": {
    "name": "ipython",
    "version": 3
   },
   "file_extension": ".py",
   "mimetype": "text/x-python",
   "name": "python",
   "nbconvert_exporter": "python",
   "pygments_lexer": "ipython3",
   "version": "3.12.2"
  }
 },
 "nbformat": 4,
 "nbformat_minor": 5
}
